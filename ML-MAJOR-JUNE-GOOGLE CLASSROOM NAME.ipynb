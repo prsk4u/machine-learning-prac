{
 "cells": [
  {
   "cell_type": "markdown",
   "metadata": {},
   "source": [
    "<h1>Predict the first Innings score in a ODI</h1>"
   ]
  },
  {
   "cell_type": "markdown",
   "metadata": {},
   "source": [
    "<h3>1. Importing useful Library and Dataset</h3>"
   ]
  },
  {
   "cell_type": "code",
   "execution_count": 1,
   "metadata": {},
   "outputs": [],
   "source": [
    "import numpy as np\n",
    "import pandas as pd\n",
    "import matplotlib.pyplot as plt"
   ]
  },
  {
   "cell_type": "code",
   "execution_count": 2,
   "metadata": {},
   "outputs": [],
   "source": [
    "data=pd.read_csv('odi.csv')"
   ]
  },
  {
   "cell_type": "code",
   "execution_count": 3,
   "metadata": {},
   "outputs": [
    {
     "data": {
      "text/html": [
       "<div>\n",
       "<style scoped>\n",
       "    .dataframe tbody tr th:only-of-type {\n",
       "        vertical-align: middle;\n",
       "    }\n",
       "\n",
       "    .dataframe tbody tr th {\n",
       "        vertical-align: top;\n",
       "    }\n",
       "\n",
       "    .dataframe thead th {\n",
       "        text-align: right;\n",
       "    }\n",
       "</style>\n",
       "<table border=\"1\" class=\"dataframe\">\n",
       "  <thead>\n",
       "    <tr style=\"text-align: right;\">\n",
       "      <th></th>\n",
       "      <th>mid</th>\n",
       "      <th>date</th>\n",
       "      <th>venue</th>\n",
       "      <th>bat_team</th>\n",
       "      <th>bowl_team</th>\n",
       "      <th>batsman</th>\n",
       "      <th>bowler</th>\n",
       "      <th>runs</th>\n",
       "      <th>wickets</th>\n",
       "      <th>overs</th>\n",
       "      <th>runs_last_5</th>\n",
       "      <th>wickets_last_5</th>\n",
       "      <th>striker</th>\n",
       "      <th>non-striker</th>\n",
       "      <th>total</th>\n",
       "    </tr>\n",
       "  </thead>\n",
       "  <tbody>\n",
       "    <tr>\n",
       "      <th>0</th>\n",
       "      <td>1</td>\n",
       "      <td>2006-06-13</td>\n",
       "      <td>Civil Service Cricket Club, Stormont</td>\n",
       "      <td>England</td>\n",
       "      <td>Ireland</td>\n",
       "      <td>ME Trescothick</td>\n",
       "      <td>DT Johnston</td>\n",
       "      <td>0</td>\n",
       "      <td>0</td>\n",
       "      <td>0.1</td>\n",
       "      <td>0</td>\n",
       "      <td>0</td>\n",
       "      <td>0</td>\n",
       "      <td>0</td>\n",
       "      <td>301</td>\n",
       "    </tr>\n",
       "    <tr>\n",
       "      <th>1</th>\n",
       "      <td>1</td>\n",
       "      <td>2006-06-13</td>\n",
       "      <td>Civil Service Cricket Club, Stormont</td>\n",
       "      <td>England</td>\n",
       "      <td>Ireland</td>\n",
       "      <td>ME Trescothick</td>\n",
       "      <td>DT Johnston</td>\n",
       "      <td>0</td>\n",
       "      <td>0</td>\n",
       "      <td>0.2</td>\n",
       "      <td>0</td>\n",
       "      <td>0</td>\n",
       "      <td>0</td>\n",
       "      <td>0</td>\n",
       "      <td>301</td>\n",
       "    </tr>\n",
       "    <tr>\n",
       "      <th>2</th>\n",
       "      <td>1</td>\n",
       "      <td>2006-06-13</td>\n",
       "      <td>Civil Service Cricket Club, Stormont</td>\n",
       "      <td>England</td>\n",
       "      <td>Ireland</td>\n",
       "      <td>ME Trescothick</td>\n",
       "      <td>DT Johnston</td>\n",
       "      <td>4</td>\n",
       "      <td>0</td>\n",
       "      <td>0.3</td>\n",
       "      <td>4</td>\n",
       "      <td>0</td>\n",
       "      <td>0</td>\n",
       "      <td>0</td>\n",
       "      <td>301</td>\n",
       "    </tr>\n",
       "    <tr>\n",
       "      <th>3</th>\n",
       "      <td>1</td>\n",
       "      <td>2006-06-13</td>\n",
       "      <td>Civil Service Cricket Club, Stormont</td>\n",
       "      <td>England</td>\n",
       "      <td>Ireland</td>\n",
       "      <td>ME Trescothick</td>\n",
       "      <td>DT Johnston</td>\n",
       "      <td>6</td>\n",
       "      <td>0</td>\n",
       "      <td>0.4</td>\n",
       "      <td>6</td>\n",
       "      <td>0</td>\n",
       "      <td>0</td>\n",
       "      <td>0</td>\n",
       "      <td>301</td>\n",
       "    </tr>\n",
       "    <tr>\n",
       "      <th>4</th>\n",
       "      <td>1</td>\n",
       "      <td>2006-06-13</td>\n",
       "      <td>Civil Service Cricket Club, Stormont</td>\n",
       "      <td>England</td>\n",
       "      <td>Ireland</td>\n",
       "      <td>ME Trescothick</td>\n",
       "      <td>DT Johnston</td>\n",
       "      <td>6</td>\n",
       "      <td>0</td>\n",
       "      <td>0.5</td>\n",
       "      <td>6</td>\n",
       "      <td>0</td>\n",
       "      <td>0</td>\n",
       "      <td>0</td>\n",
       "      <td>301</td>\n",
       "    </tr>\n",
       "    <tr>\n",
       "      <th>5</th>\n",
       "      <td>1</td>\n",
       "      <td>2006-06-13</td>\n",
       "      <td>Civil Service Cricket Club, Stormont</td>\n",
       "      <td>England</td>\n",
       "      <td>Ireland</td>\n",
       "      <td>ME Trescothick</td>\n",
       "      <td>DT Johnston</td>\n",
       "      <td>6</td>\n",
       "      <td>0</td>\n",
       "      <td>0.6</td>\n",
       "      <td>6</td>\n",
       "      <td>0</td>\n",
       "      <td>0</td>\n",
       "      <td>0</td>\n",
       "      <td>301</td>\n",
       "    </tr>\n",
       "    <tr>\n",
       "      <th>6</th>\n",
       "      <td>1</td>\n",
       "      <td>2006-06-13</td>\n",
       "      <td>Civil Service Cricket Club, Stormont</td>\n",
       "      <td>England</td>\n",
       "      <td>Ireland</td>\n",
       "      <td>EC Joyce</td>\n",
       "      <td>D Langford-Smith</td>\n",
       "      <td>6</td>\n",
       "      <td>0</td>\n",
       "      <td>1.1</td>\n",
       "      <td>6</td>\n",
       "      <td>0</td>\n",
       "      <td>0</td>\n",
       "      <td>0</td>\n",
       "      <td>301</td>\n",
       "    </tr>\n",
       "    <tr>\n",
       "      <th>7</th>\n",
       "      <td>1</td>\n",
       "      <td>2006-06-13</td>\n",
       "      <td>Civil Service Cricket Club, Stormont</td>\n",
       "      <td>England</td>\n",
       "      <td>Ireland</td>\n",
       "      <td>EC Joyce</td>\n",
       "      <td>D Langford-Smith</td>\n",
       "      <td>6</td>\n",
       "      <td>0</td>\n",
       "      <td>1.2</td>\n",
       "      <td>6</td>\n",
       "      <td>0</td>\n",
       "      <td>0</td>\n",
       "      <td>0</td>\n",
       "      <td>301</td>\n",
       "    </tr>\n",
       "    <tr>\n",
       "      <th>8</th>\n",
       "      <td>1</td>\n",
       "      <td>2006-06-13</td>\n",
       "      <td>Civil Service Cricket Club, Stormont</td>\n",
       "      <td>England</td>\n",
       "      <td>Ireland</td>\n",
       "      <td>EC Joyce</td>\n",
       "      <td>D Langford-Smith</td>\n",
       "      <td>6</td>\n",
       "      <td>0</td>\n",
       "      <td>1.3</td>\n",
       "      <td>6</td>\n",
       "      <td>0</td>\n",
       "      <td>0</td>\n",
       "      <td>0</td>\n",
       "      <td>301</td>\n",
       "    </tr>\n",
       "    <tr>\n",
       "      <th>9</th>\n",
       "      <td>1</td>\n",
       "      <td>2006-06-13</td>\n",
       "      <td>Civil Service Cricket Club, Stormont</td>\n",
       "      <td>England</td>\n",
       "      <td>Ireland</td>\n",
       "      <td>EC Joyce</td>\n",
       "      <td>D Langford-Smith</td>\n",
       "      <td>7</td>\n",
       "      <td>0</td>\n",
       "      <td>1.3</td>\n",
       "      <td>7</td>\n",
       "      <td>0</td>\n",
       "      <td>0</td>\n",
       "      <td>0</td>\n",
       "      <td>301</td>\n",
       "    </tr>\n",
       "  </tbody>\n",
       "</table>\n",
       "</div>"
      ],
      "text/plain": [
       "   mid        date                                 venue bat_team bowl_team  \\\n",
       "0    1  2006-06-13  Civil Service Cricket Club, Stormont  England   Ireland   \n",
       "1    1  2006-06-13  Civil Service Cricket Club, Stormont  England   Ireland   \n",
       "2    1  2006-06-13  Civil Service Cricket Club, Stormont  England   Ireland   \n",
       "3    1  2006-06-13  Civil Service Cricket Club, Stormont  England   Ireland   \n",
       "4    1  2006-06-13  Civil Service Cricket Club, Stormont  England   Ireland   \n",
       "5    1  2006-06-13  Civil Service Cricket Club, Stormont  England   Ireland   \n",
       "6    1  2006-06-13  Civil Service Cricket Club, Stormont  England   Ireland   \n",
       "7    1  2006-06-13  Civil Service Cricket Club, Stormont  England   Ireland   \n",
       "8    1  2006-06-13  Civil Service Cricket Club, Stormont  England   Ireland   \n",
       "9    1  2006-06-13  Civil Service Cricket Club, Stormont  England   Ireland   \n",
       "\n",
       "          batsman            bowler  runs  wickets  overs  runs_last_5  \\\n",
       "0  ME Trescothick       DT Johnston     0        0    0.1            0   \n",
       "1  ME Trescothick       DT Johnston     0        0    0.2            0   \n",
       "2  ME Trescothick       DT Johnston     4        0    0.3            4   \n",
       "3  ME Trescothick       DT Johnston     6        0    0.4            6   \n",
       "4  ME Trescothick       DT Johnston     6        0    0.5            6   \n",
       "5  ME Trescothick       DT Johnston     6        0    0.6            6   \n",
       "6        EC Joyce  D Langford-Smith     6        0    1.1            6   \n",
       "7        EC Joyce  D Langford-Smith     6        0    1.2            6   \n",
       "8        EC Joyce  D Langford-Smith     6        0    1.3            6   \n",
       "9        EC Joyce  D Langford-Smith     7        0    1.3            7   \n",
       "\n",
       "   wickets_last_5  striker  non-striker  total  \n",
       "0               0        0            0    301  \n",
       "1               0        0            0    301  \n",
       "2               0        0            0    301  \n",
       "3               0        0            0    301  \n",
       "4               0        0            0    301  \n",
       "5               0        0            0    301  \n",
       "6               0        0            0    301  \n",
       "7               0        0            0    301  \n",
       "8               0        0            0    301  \n",
       "9               0        0            0    301  "
      ]
     },
     "execution_count": 3,
     "metadata": {},
     "output_type": "execute_result"
    }
   ],
   "source": [
    "data.head(10)"
   ]
  },
  {
   "cell_type": "code",
   "execution_count": 4,
   "metadata": {},
   "outputs": [
    {
     "data": {
      "text/html": [
       "<div>\n",
       "<style scoped>\n",
       "    .dataframe tbody tr th:only-of-type {\n",
       "        vertical-align: middle;\n",
       "    }\n",
       "\n",
       "    .dataframe tbody tr th {\n",
       "        vertical-align: top;\n",
       "    }\n",
       "\n",
       "    .dataframe thead th {\n",
       "        text-align: right;\n",
       "    }\n",
       "</style>\n",
       "<table border=\"1\" class=\"dataframe\">\n",
       "  <thead>\n",
       "    <tr style=\"text-align: right;\">\n",
       "      <th></th>\n",
       "      <th>mid</th>\n",
       "      <th>date</th>\n",
       "      <th>venue</th>\n",
       "      <th>bat_team</th>\n",
       "      <th>bowl_team</th>\n",
       "      <th>batsman</th>\n",
       "      <th>bowler</th>\n",
       "      <th>runs</th>\n",
       "      <th>wickets</th>\n",
       "      <th>overs</th>\n",
       "      <th>runs_last_5</th>\n",
       "      <th>wickets_last_5</th>\n",
       "      <th>striker</th>\n",
       "      <th>non-striker</th>\n",
       "      <th>total</th>\n",
       "    </tr>\n",
       "  </thead>\n",
       "  <tbody>\n",
       "    <tr>\n",
       "      <th>350894</th>\n",
       "      <td>1188</td>\n",
       "      <td>2017-07-10</td>\n",
       "      <td>Mahinda Rajapaksa International Cricket Stadiu...</td>\n",
       "      <td>Sri Lanka</td>\n",
       "      <td>Zimbabwe</td>\n",
       "      <td>DAS Gunaratne</td>\n",
       "      <td>TL Chatara</td>\n",
       "      <td>201</td>\n",
       "      <td>8</td>\n",
       "      <td>49.2</td>\n",
       "      <td>39</td>\n",
       "      <td>0</td>\n",
       "      <td>59</td>\n",
       "      <td>18</td>\n",
       "      <td>203</td>\n",
       "    </tr>\n",
       "    <tr>\n",
       "      <th>350895</th>\n",
       "      <td>1188</td>\n",
       "      <td>2017-07-10</td>\n",
       "      <td>Mahinda Rajapaksa International Cricket Stadiu...</td>\n",
       "      <td>Sri Lanka</td>\n",
       "      <td>Zimbabwe</td>\n",
       "      <td>DAS Gunaratne</td>\n",
       "      <td>TL Chatara</td>\n",
       "      <td>201</td>\n",
       "      <td>8</td>\n",
       "      <td>49.3</td>\n",
       "      <td>39</td>\n",
       "      <td>0</td>\n",
       "      <td>59</td>\n",
       "      <td>18</td>\n",
       "      <td>203</td>\n",
       "    </tr>\n",
       "    <tr>\n",
       "      <th>350896</th>\n",
       "      <td>1188</td>\n",
       "      <td>2017-07-10</td>\n",
       "      <td>Mahinda Rajapaksa International Cricket Stadiu...</td>\n",
       "      <td>Sri Lanka</td>\n",
       "      <td>Zimbabwe</td>\n",
       "      <td>DAS Gunaratne</td>\n",
       "      <td>TL Chatara</td>\n",
       "      <td>201</td>\n",
       "      <td>8</td>\n",
       "      <td>49.4</td>\n",
       "      <td>38</td>\n",
       "      <td>0</td>\n",
       "      <td>59</td>\n",
       "      <td>18</td>\n",
       "      <td>203</td>\n",
       "    </tr>\n",
       "    <tr>\n",
       "      <th>350897</th>\n",
       "      <td>1188</td>\n",
       "      <td>2017-07-10</td>\n",
       "      <td>Mahinda Rajapaksa International Cricket Stadiu...</td>\n",
       "      <td>Sri Lanka</td>\n",
       "      <td>Zimbabwe</td>\n",
       "      <td>DAS Gunaratne</td>\n",
       "      <td>TL Chatara</td>\n",
       "      <td>202</td>\n",
       "      <td>8</td>\n",
       "      <td>49.5</td>\n",
       "      <td>38</td>\n",
       "      <td>0</td>\n",
       "      <td>59</td>\n",
       "      <td>18</td>\n",
       "      <td>203</td>\n",
       "    </tr>\n",
       "    <tr>\n",
       "      <th>350898</th>\n",
       "      <td>1188</td>\n",
       "      <td>2017-07-10</td>\n",
       "      <td>Mahinda Rajapaksa International Cricket Stadiu...</td>\n",
       "      <td>Sri Lanka</td>\n",
       "      <td>Zimbabwe</td>\n",
       "      <td>PVD Chameera</td>\n",
       "      <td>TL Chatara</td>\n",
       "      <td>203</td>\n",
       "      <td>8</td>\n",
       "      <td>49.6</td>\n",
       "      <td>38</td>\n",
       "      <td>0</td>\n",
       "      <td>59</td>\n",
       "      <td>18</td>\n",
       "      <td>203</td>\n",
       "    </tr>\n",
       "  </tbody>\n",
       "</table>\n",
       "</div>"
      ],
      "text/plain": [
       "         mid        date                                              venue  \\\n",
       "350894  1188  2017-07-10  Mahinda Rajapaksa International Cricket Stadiu...   \n",
       "350895  1188  2017-07-10  Mahinda Rajapaksa International Cricket Stadiu...   \n",
       "350896  1188  2017-07-10  Mahinda Rajapaksa International Cricket Stadiu...   \n",
       "350897  1188  2017-07-10  Mahinda Rajapaksa International Cricket Stadiu...   \n",
       "350898  1188  2017-07-10  Mahinda Rajapaksa International Cricket Stadiu...   \n",
       "\n",
       "         bat_team bowl_team        batsman      bowler  runs  wickets  overs  \\\n",
       "350894  Sri Lanka  Zimbabwe  DAS Gunaratne  TL Chatara   201        8   49.2   \n",
       "350895  Sri Lanka  Zimbabwe  DAS Gunaratne  TL Chatara   201        8   49.3   \n",
       "350896  Sri Lanka  Zimbabwe  DAS Gunaratne  TL Chatara   201        8   49.4   \n",
       "350897  Sri Lanka  Zimbabwe  DAS Gunaratne  TL Chatara   202        8   49.5   \n",
       "350898  Sri Lanka  Zimbabwe   PVD Chameera  TL Chatara   203        8   49.6   \n",
       "\n",
       "        runs_last_5  wickets_last_5  striker  non-striker  total  \n",
       "350894           39               0       59           18    203  \n",
       "350895           39               0       59           18    203  \n",
       "350896           38               0       59           18    203  \n",
       "350897           38               0       59           18    203  \n",
       "350898           38               0       59           18    203  "
      ]
     },
     "execution_count": 4,
     "metadata": {},
     "output_type": "execute_result"
    }
   ],
   "source": [
    "data.tail()"
   ]
  },
  {
   "cell_type": "code",
   "execution_count": 5,
   "metadata": {},
   "outputs": [
    {
     "name": "stdout",
     "output_type": "stream",
     "text": [
      "<class 'pandas.core.frame.DataFrame'>\n",
      "RangeIndex: 350899 entries, 0 to 350898\n",
      "Data columns (total 15 columns):\n",
      " #   Column          Non-Null Count   Dtype  \n",
      "---  ------          --------------   -----  \n",
      " 0   mid             350899 non-null  int64  \n",
      " 1   date            350899 non-null  object \n",
      " 2   venue           350899 non-null  object \n",
      " 3   bat_team        350899 non-null  object \n",
      " 4   bowl_team       350899 non-null  object \n",
      " 5   batsman         350899 non-null  object \n",
      " 6   bowler          350899 non-null  object \n",
      " 7   runs            350899 non-null  int64  \n",
      " 8   wickets         350899 non-null  int64  \n",
      " 9   overs           350899 non-null  float64\n",
      " 10  runs_last_5     350899 non-null  int64  \n",
      " 11  wickets_last_5  350899 non-null  int64  \n",
      " 12  striker         350899 non-null  int64  \n",
      " 13  non-striker     350899 non-null  int64  \n",
      " 14  total           350899 non-null  int64  \n",
      "dtypes: float64(1), int64(8), object(6)\n",
      "memory usage: 40.2+ MB\n"
     ]
    }
   ],
   "source": [
    "data.info()"
   ]
  },
  {
   "cell_type": "markdown",
   "metadata": {},
   "source": [
    "<h4>2. Grouping Data</h4>"
   ]
  },
  {
   "cell_type": "code",
   "execution_count": 3,
   "metadata": {
    "scrolled": true
   },
   "outputs": [
    {
     "output_type": "execute_result",
     "data": {
      "text/plain": "                              mid        runs   wickets      overs  \\\nbat_team                                                             \nAfghanistan            963.248546  103.719725  3.383792  23.731491   \nAsia XI                192.995717  150.514989  3.304069  24.731049   \nAustralia              523.393997  122.956547  2.765866  24.468990   \nBangladesh             625.695530  105.383375  3.246617  23.786136   \nBermuda                216.027715   86.493213  4.113688  23.318778   \nCanada                 501.073150   94.619701  3.482959  22.537781   \nEngland                585.947424  120.585727  2.826558  24.094214   \nHong Kong             1063.858705  100.560976  3.277544  24.121531   \nIndia                  552.437117  125.675789  2.745297  24.192921   \nIreland                764.949661  103.182362  3.224731  23.661960   \nKenya                  329.887769   84.564852  3.986559  22.242473   \nNetherlands            496.299816   92.863177  3.496786  22.733655   \nNew Zealand            629.917286  118.863359  3.058006  24.232326   \nPakistan               612.331322  114.268115  2.953724  24.397258   \nPapua New Guinea      1125.000000  110.830986  4.401408  22.621127   \nScotland               796.433479  102.031166  3.775972  23.353603   \nSouth Africa           620.935298  124.920405  2.540642  24.378343   \nSri Lanka              546.213406  116.667119  2.892140  24.085054   \nUnited Arab Emirates   964.557328  103.675474  3.640578  23.216550   \nWest Indies            559.821182  103.824277  3.122098  23.828778   \nZimbabwe               596.212333   93.753860  3.346711  23.254563   \n\n                      runs_last_5  wickets_last_5    striker  non-striker  \\\nbat_team                                                                    \nAfghanistan             21.510709        0.731359  28.062136     9.176758   \nAsia XI                 29.556745        0.614561  37.946467    17.165953   \nAustralia               24.985360        0.615786  38.055553    13.551163   \nBangladesh              21.526441        0.717502  31.168087    10.926650   \nBermuda                 17.887443        0.809955  23.351244     8.651018   \nCanada                  19.535328        0.836658  25.301746     7.400665   \nEngland                 24.647837        0.659172  36.141207    12.912674   \nHong Kong               21.099243        0.708158  28.269975     7.851135   \nIndia                   25.444026        0.611036  40.690923    14.656827   \nIreland                 21.325940        0.760393  32.905831     9.255147   \nKenya                   17.769153        0.878360  23.191196     7.013105   \nNetherlands             19.897153        0.803949  29.965565    10.153352   \nNew Zealand             24.450219        0.674483  36.258192    12.082449   \nPakistan                23.525270        0.656611  33.672626    12.329869   \nPapua New Guinea        20.207746        0.926056  25.841549     6.911972   \nScotland                21.381032        0.784517  32.815851     8.802279   \nSouth Africa            25.768006        0.574651  40.885364    15.870440   \nSri Lanka               23.496716        0.669502  36.042840    13.065347   \nUnited Arab Emirates    21.200399        0.852941  28.098205    10.790628   \nWest Indies             21.955034        0.707366  30.426110    10.516752   \nZimbabwe                19.811700        0.773549  28.602909     9.271165   \n\n                           total  \nbat_team                          \nAfghanistan           231.294685  \nAsia XI               328.396146  \nAustralia             274.583853  \nBangladesh            232.174770  \nBermuda               189.269796  \nCanada                198.460931  \nEngland               266.261576  \nHong Kong             226.456686  \nIndia                 277.261732  \nIreland               228.572055  \nKenya                 183.188172  \nNetherlands           202.668044  \nNew Zealand           267.911250  \nPakistan              256.961905  \nPapua New Guinea      201.000000  \nScotland              224.372319  \nSouth Africa          282.738377  \nSri Lanka             254.554023  \nUnited Arab Emirates  224.057827  \nWest Indies           237.371397  \nZimbabwe              206.446338  ",
      "text/html": "<div>\n<style scoped>\n    .dataframe tbody tr th:only-of-type {\n        vertical-align: middle;\n    }\n\n    .dataframe tbody tr th {\n        vertical-align: top;\n    }\n\n    .dataframe thead th {\n        text-align: right;\n    }\n</style>\n<table border=\"1\" class=\"dataframe\">\n  <thead>\n    <tr style=\"text-align: right;\">\n      <th></th>\n      <th>mid</th>\n      <th>runs</th>\n      <th>wickets</th>\n      <th>overs</th>\n      <th>runs_last_5</th>\n      <th>wickets_last_5</th>\n      <th>striker</th>\n      <th>non-striker</th>\n      <th>total</th>\n    </tr>\n    <tr>\n      <th>bat_team</th>\n      <th></th>\n      <th></th>\n      <th></th>\n      <th></th>\n      <th></th>\n      <th></th>\n      <th></th>\n      <th></th>\n      <th></th>\n    </tr>\n  </thead>\n  <tbody>\n    <tr>\n      <th>Afghanistan</th>\n      <td>963.248546</td>\n      <td>103.719725</td>\n      <td>3.383792</td>\n      <td>23.731491</td>\n      <td>21.510709</td>\n      <td>0.731359</td>\n      <td>28.062136</td>\n      <td>9.176758</td>\n      <td>231.294685</td>\n    </tr>\n    <tr>\n      <th>Asia XI</th>\n      <td>192.995717</td>\n      <td>150.514989</td>\n      <td>3.304069</td>\n      <td>24.731049</td>\n      <td>29.556745</td>\n      <td>0.614561</td>\n      <td>37.946467</td>\n      <td>17.165953</td>\n      <td>328.396146</td>\n    </tr>\n    <tr>\n      <th>Australia</th>\n      <td>523.393997</td>\n      <td>122.956547</td>\n      <td>2.765866</td>\n      <td>24.468990</td>\n      <td>24.985360</td>\n      <td>0.615786</td>\n      <td>38.055553</td>\n      <td>13.551163</td>\n      <td>274.583853</td>\n    </tr>\n    <tr>\n      <th>Bangladesh</th>\n      <td>625.695530</td>\n      <td>105.383375</td>\n      <td>3.246617</td>\n      <td>23.786136</td>\n      <td>21.526441</td>\n      <td>0.717502</td>\n      <td>31.168087</td>\n      <td>10.926650</td>\n      <td>232.174770</td>\n    </tr>\n    <tr>\n      <th>Bermuda</th>\n      <td>216.027715</td>\n      <td>86.493213</td>\n      <td>4.113688</td>\n      <td>23.318778</td>\n      <td>17.887443</td>\n      <td>0.809955</td>\n      <td>23.351244</td>\n      <td>8.651018</td>\n      <td>189.269796</td>\n    </tr>\n    <tr>\n      <th>Canada</th>\n      <td>501.073150</td>\n      <td>94.619701</td>\n      <td>3.482959</td>\n      <td>22.537781</td>\n      <td>19.535328</td>\n      <td>0.836658</td>\n      <td>25.301746</td>\n      <td>7.400665</td>\n      <td>198.460931</td>\n    </tr>\n    <tr>\n      <th>England</th>\n      <td>585.947424</td>\n      <td>120.585727</td>\n      <td>2.826558</td>\n      <td>24.094214</td>\n      <td>24.647837</td>\n      <td>0.659172</td>\n      <td>36.141207</td>\n      <td>12.912674</td>\n      <td>266.261576</td>\n    </tr>\n    <tr>\n      <th>Hong Kong</th>\n      <td>1063.858705</td>\n      <td>100.560976</td>\n      <td>3.277544</td>\n      <td>24.121531</td>\n      <td>21.099243</td>\n      <td>0.708158</td>\n      <td>28.269975</td>\n      <td>7.851135</td>\n      <td>226.456686</td>\n    </tr>\n    <tr>\n      <th>India</th>\n      <td>552.437117</td>\n      <td>125.675789</td>\n      <td>2.745297</td>\n      <td>24.192921</td>\n      <td>25.444026</td>\n      <td>0.611036</td>\n      <td>40.690923</td>\n      <td>14.656827</td>\n      <td>277.261732</td>\n    </tr>\n    <tr>\n      <th>Ireland</th>\n      <td>764.949661</td>\n      <td>103.182362</td>\n      <td>3.224731</td>\n      <td>23.661960</td>\n      <td>21.325940</td>\n      <td>0.760393</td>\n      <td>32.905831</td>\n      <td>9.255147</td>\n      <td>228.572055</td>\n    </tr>\n    <tr>\n      <th>Kenya</th>\n      <td>329.887769</td>\n      <td>84.564852</td>\n      <td>3.986559</td>\n      <td>22.242473</td>\n      <td>17.769153</td>\n      <td>0.878360</td>\n      <td>23.191196</td>\n      <td>7.013105</td>\n      <td>183.188172</td>\n    </tr>\n    <tr>\n      <th>Netherlands</th>\n      <td>496.299816</td>\n      <td>92.863177</td>\n      <td>3.496786</td>\n      <td>22.733655</td>\n      <td>19.897153</td>\n      <td>0.803949</td>\n      <td>29.965565</td>\n      <td>10.153352</td>\n      <td>202.668044</td>\n    </tr>\n    <tr>\n      <th>New Zealand</th>\n      <td>629.917286</td>\n      <td>118.863359</td>\n      <td>3.058006</td>\n      <td>24.232326</td>\n      <td>24.450219</td>\n      <td>0.674483</td>\n      <td>36.258192</td>\n      <td>12.082449</td>\n      <td>267.911250</td>\n    </tr>\n    <tr>\n      <th>Pakistan</th>\n      <td>612.331322</td>\n      <td>114.268115</td>\n      <td>2.953724</td>\n      <td>24.397258</td>\n      <td>23.525270</td>\n      <td>0.656611</td>\n      <td>33.672626</td>\n      <td>12.329869</td>\n      <td>256.961905</td>\n    </tr>\n    <tr>\n      <th>Papua New Guinea</th>\n      <td>1125.000000</td>\n      <td>110.830986</td>\n      <td>4.401408</td>\n      <td>22.621127</td>\n      <td>20.207746</td>\n      <td>0.926056</td>\n      <td>25.841549</td>\n      <td>6.911972</td>\n      <td>201.000000</td>\n    </tr>\n    <tr>\n      <th>Scotland</th>\n      <td>796.433479</td>\n      <td>102.031166</td>\n      <td>3.775972</td>\n      <td>23.353603</td>\n      <td>21.381032</td>\n      <td>0.784517</td>\n      <td>32.815851</td>\n      <td>8.802279</td>\n      <td>224.372319</td>\n    </tr>\n    <tr>\n      <th>South Africa</th>\n      <td>620.935298</td>\n      <td>124.920405</td>\n      <td>2.540642</td>\n      <td>24.378343</td>\n      <td>25.768006</td>\n      <td>0.574651</td>\n      <td>40.885364</td>\n      <td>15.870440</td>\n      <td>282.738377</td>\n    </tr>\n    <tr>\n      <th>Sri Lanka</th>\n      <td>546.213406</td>\n      <td>116.667119</td>\n      <td>2.892140</td>\n      <td>24.085054</td>\n      <td>23.496716</td>\n      <td>0.669502</td>\n      <td>36.042840</td>\n      <td>13.065347</td>\n      <td>254.554023</td>\n    </tr>\n    <tr>\n      <th>United Arab Emirates</th>\n      <td>964.557328</td>\n      <td>103.675474</td>\n      <td>3.640578</td>\n      <td>23.216550</td>\n      <td>21.200399</td>\n      <td>0.852941</td>\n      <td>28.098205</td>\n      <td>10.790628</td>\n      <td>224.057827</td>\n    </tr>\n    <tr>\n      <th>West Indies</th>\n      <td>559.821182</td>\n      <td>103.824277</td>\n      <td>3.122098</td>\n      <td>23.828778</td>\n      <td>21.955034</td>\n      <td>0.707366</td>\n      <td>30.426110</td>\n      <td>10.516752</td>\n      <td>237.371397</td>\n    </tr>\n    <tr>\n      <th>Zimbabwe</th>\n      <td>596.212333</td>\n      <td>93.753860</td>\n      <td>3.346711</td>\n      <td>23.254563</td>\n      <td>19.811700</td>\n      <td>0.773549</td>\n      <td>28.602909</td>\n      <td>9.271165</td>\n      <td>206.446338</td>\n    </tr>\n  </tbody>\n</table>\n</div>"
     },
     "metadata": {},
     "execution_count": 3
    }
   ],
   "source": [
    "x=data.groupby(['bat_team']).mean()\n",
    "X=sorted(list(set(data['bat_team'])))\n",
    "x"
   ]
  },
  {
   "cell_type": "markdown",
   "metadata": {},
   "source": [
    "<h3>Bar Graph</h3>"
   ]
  },
  {
   "cell_type": "code",
   "execution_count": 7,
   "metadata": {},
   "outputs": [
    {
     "data": {
      "text/plain": [
       "Text(0.5, 1.0, 'Bar Graph Countries v/s Average Score')"
      ]
     },
     "execution_count": 7,
     "metadata": {},
     "output_type": "execute_result"
    },
    {
     "data": {
      "image/png": "[encoded data removed]",
      "text/plain": [
       "<Figure size 1440x576 with 1 Axes>"
      ]
     },
     "metadata": {
      "needs_background": "light"
     },
     "output_type": "display_data"
    }
   ],
   "source": [
    "y=x['total']\n",
    "plt.figure(figsize=(20,8))\n",
    "plt.xticks(rotation='vertical')\n",
    "plt.bar(X,y)\n",
    "plt.title('Bar Graph Countries v/s Average Score')"
   ]
  },
  {
   "cell_type": "markdown",
   "metadata": {},
   "source": [
    "<h4>Selecting Relevant Columns</h4>"
   ]
  },
  {
   "cell_type": "code",
   "execution_count": 8,
   "metadata": {},
   "outputs": [],
   "source": [
    "X=data.iloc[:,[7,8,9,12,13]].values\n",
    "y=data.iloc[:, 14].values"
   ]
  },
  {
   "cell_type": "markdown",
   "metadata": {},
   "source": [
    "<h4>Splitting Data</h4>"
   ]
  },
  {
   "cell_type": "code",
   "execution_count": 9,
   "metadata": {},
   "outputs": [],
   "source": [
    "from sklearn.model_selection import train_test_split\n",
    "X_train, X_test, y_train, y_test = train_test_split(X, y, test_size = 0.25, random_state = 0)"
   ]
  },
  {
   "cell_type": "code",
   "execution_count": 10,
   "metadata": {},
   "outputs": [],
   "source": [
    "def custom_accuracy(y_test,y_pred,thresold):\n",
    "    right = 0\n",
    "    l = len(y_pred)\n",
    "    for i in range(0,l):\n",
    "        if(abs(y_pred[i]-y_test[i]) <= thresold):\n",
    "            right += 1\n",
    "    return ((right/l)*100)"
   ]
  },
  {
   "cell_type": "markdown",
   "metadata": {},
   "source": [
    "<h4>Scaling</h4>"
   ]
  },
  {
   "cell_type": "code",
   "execution_count": 11,
   "metadata": {},
   "outputs": [],
   "source": [
    "from sklearn.preprocessing import StandardScaler\n",
    "sc = StandardScaler()\n",
    "X_train = sc.fit_transform(X_train)\n",
    "X_test = sc.transform(X_test)"
   ]
  },
  {
   "cell_type": "markdown",
   "metadata": {},
   "source": [
    "<h4>Train model using Linear Regression</h4>"
   ]
  },
  {
   "cell_type": "code",
   "execution_count": 12,
   "metadata": {},
   "outputs": [
    {
     "data": {
      "text/plain": [
       "LinearRegression(copy_X=True, fit_intercept=True, n_jobs=None, normalize=False)"
      ]
     },
     "execution_count": 12,
     "metadata": {},
     "output_type": "execute_result"
    }
   ],
   "source": [
    "from sklearn.linear_model import LinearRegression\n",
    "lin = LinearRegression()\n",
    "lin.fit(X_train,y_train)"
   ]
  },
  {
   "cell_type": "code",
   "execution_count": 13,
   "metadata": {},
   "outputs": [
    {
     "name": "stdout",
     "output_type": "stream",
     "text": [
      "R-squared value: 52.737657811129445\n",
      "Custom accuracy: 43.354801937874036\n",
      "Predicted Score according to given data :  [322.42983935]\n"
     ]
    }
   ],
   "source": [
    "y_pred = lin.predict(X_test)\n",
    "score = lin.score(X_test,y_test)*100\n",
    "print(\"R-squared value:\" , score)\n",
    "print(\"Custom accuracy:\" , custom_accuracy(y_test,y_pred,20))\n",
    "pred=lin.predict(sc.transform(np.array([[100,0,13,50,50]])))\n",
    "print(\"Predicted Score according to given data : \",pred)"
   ]
  },
  {
   "cell_type": "markdown",
   "metadata": {},
   "source": [
    "<h4>Train model using Random Forest</h4>"
   ]
  },
  {
   "cell_type": "code",
   "execution_count": 14,
   "metadata": {},
   "outputs": [
    {
     "data": {
      "text/plain": [
       "RandomForestRegressor(bootstrap=True, ccp_alpha=0.0, criterion='mse',\n",
       "                      max_depth=None, max_features=None, max_leaf_nodes=None,\n",
       "                      max_samples=None, min_impurity_decrease=0.0,\n",
       "                      min_impurity_split=None, min_samples_leaf=1,\n",
       "                      min_samples_split=2, min_weight_fraction_leaf=0.0,\n",
       "                      n_estimators=100, n_jobs=None, oob_score=False,\n",
       "                      random_state=None, verbose=0, warm_start=False)"
      ]
     },
     "execution_count": 14,
     "metadata": {},
     "output_type": "execute_result"
    }
   ],
   "source": [
    "from sklearn.ensemble import RandomForestRegressor\n",
    "lin = RandomForestRegressor(n_estimators=100,max_features=None)\n",
    "lin.fit(X_train,y_train)"
   ]
  },
  {
   "cell_type": "code",
   "execution_count": 15,
   "metadata": {},
   "outputs": [
    {
     "name": "stdout",
     "output_type": "stream",
     "text": [
      "R-squared value: 79.5179070762599\n",
      "Custom accuracy: 77.1057281276717\n",
      "Predicted Score according to given data :  [315.71]\n"
     ]
    }
   ],
   "source": [
    "y_pred = lin.predict(X_test)\n",
    "score = lin.score(X_test,y_test)*100\n",
    "print(\"R-squared value:\" , score)\n",
    "print(\"Custom accuracy:\" , custom_accuracy(y_test,y_pred,20))\n",
    "pred=lin.predict(sc.transform(np.array([[100,0,13,50,50]])))\n",
    "print(\"Predicted Score according to given data : \",pred)"
   ]
  },
  {
   "cell_type": "markdown",
   "metadata": {},
   "source": [
    "<h4>Train model using Decision Tree</h4>"
   ]
  },
  {
   "cell_type": "code",
   "execution_count": 16,
   "metadata": {},
   "outputs": [
    {
     "data": {
      "text/plain": [
       "DecisionTreeRegressor(ccp_alpha=0.0, criterion='mse', max_depth=None,\n",
       "                      max_features=None, max_leaf_nodes=None,\n",
       "                      min_impurity_decrease=0.0, min_impurity_split=None,\n",
       "                      min_samples_leaf=1, min_samples_split=2,\n",
       "                      min_weight_fraction_leaf=0.0, presort='deprecated',\n",
       "                      random_state=None, splitter='best')"
      ]
     },
     "execution_count": 16,
     "metadata": {},
     "output_type": "execute_result"
    }
   ],
   "source": [
    "from sklearn.tree import DecisionTreeRegressor\n",
    "lin = DecisionTreeRegressor()\n",
    "lin.fit(X_train,y_train)\n"
   ]
  },
  {
   "cell_type": "code",
   "execution_count": 17,
   "metadata": {},
   "outputs": [
    {
     "name": "stdout",
     "output_type": "stream",
     "text": [
      "R-squared value: 67.66522989345076\n",
      "Custom accuracy: 78.69934454260473\n",
      "Predicted Score according to given data :  [303.]\n"
     ]
    }
   ],
   "source": [
    "y_pred = lin.predict(X_test)\n",
    "score = lin.score(X_test,y_test)*100\n",
    "print(\"R-squared value:\" , score)\n",
    "print(\"Custom accuracy:\" , custom_accuracy(y_test,y_pred,20))\n",
    "pred=lin.predict(sc.transform(np.array([[100,0,13,50,50]])))\n",
    "print(\"Predicted Score according to given data : \",pred)"
   ]
  },
  {
   "cell_type": "code",
   "execution_count": null,
   "metadata": {},
   "outputs": [],
   "source": []
  },
  {
   "cell_type": "code",
   "execution_count": null,
   "metadata": {},
   "outputs": [],
   "source": []
  }
 ],
 "metadata": {
  "kernelspec": {
   "name": "python_defaultSpec_1600958676764",
   "display_name": "Python 3.8.3 64-bit ('base': conda)",
   "metadata": {
    "interpreter": {
     "hash": "206091a64db966593f1cdc047c1e3f9ad74386284e6a91e9afbdeb877f51c0b4"
    }
   }
  },
  "language_info": {
   "codemirror_mode": {
    "name": "ipython",
    "version": 3
   },
   "file_extension": ".py",
   "mimetype": "text/x-python",
   "name": "python",
   "nbconvert_exporter": "python",
   "pygments_lexer": "ipython3",
   "version": "3.8.3-final"
  }
 },
 "nbformat": 4,
 "nbformat_minor": 4
}